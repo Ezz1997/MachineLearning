{
 "cells": [
  {
   "cell_type": "markdown",
   "id": "4d7dbafb",
   "metadata": {},
   "source": [
    "# Libraries <a class=\"anchor\" id=\"section1\"></a>"
   ]
  },
  {
   "cell_type": "code",
   "execution_count": 1,
   "id": "85ac1ecd",
   "metadata": {},
   "outputs": [],
   "source": [
    "import matplotlib.pyplot as plt\n",
    "import pandas as pd\n",
    "import numpy as np\n",
    "import seaborn as sns\n",
    "import random\n",
    "from sklearn.metrics import mean_squared_error \n",
    "import matplotlib.pyplot as plt"
   ]
  },
  {
   "cell_type": "markdown",
   "id": "704ae072",
   "metadata": {},
   "source": [
    "# Data <a class=\"anchor\" id=\"section1\"></a>"
   ]
  },
  {
   "cell_type": "code",
   "execution_count": 2,
   "id": "f44e8435",
   "metadata": {},
   "outputs": [],
   "source": [
    "data = pd.read_csv('data.csv')"
   ]
  },
  {
   "cell_type": "code",
   "execution_count": 3,
   "id": "71ea7717",
   "metadata": {},
   "outputs": [
    {
     "data": {
      "text/html": [
       "<div>\n",
       "<style scoped>\n",
       "    .dataframe tbody tr th:only-of-type {\n",
       "        vertical-align: middle;\n",
       "    }\n",
       "\n",
       "    .dataframe tbody tr th {\n",
       "        vertical-align: top;\n",
       "    }\n",
       "\n",
       "    .dataframe thead th {\n",
       "        text-align: right;\n",
       "    }\n",
       "</style>\n",
       "<table border=\"1\" class=\"dataframe\">\n",
       "  <thead>\n",
       "    <tr style=\"text-align: right;\">\n",
       "      <th></th>\n",
       "      <th>Unnamed: 0</th>\n",
       "      <th>area_type</th>\n",
       "      <th>availability</th>\n",
       "      <th>bedrooms</th>\n",
       "      <th>total_sqft</th>\n",
       "      <th>bath</th>\n",
       "      <th>balcony</th>\n",
       "      <th>ranked</th>\n",
       "      <th>price in rupees</th>\n",
       "    </tr>\n",
       "  </thead>\n",
       "  <tbody>\n",
       "    <tr>\n",
       "      <th>0</th>\n",
       "      <td>0</td>\n",
       "      <td>B</td>\n",
       "      <td>1</td>\n",
       "      <td>3.0</td>\n",
       "      <td>1655.0</td>\n",
       "      <td>3.0</td>\n",
       "      <td>1.0</td>\n",
       "      <td>134</td>\n",
       "      <td>10800000.0</td>\n",
       "    </tr>\n",
       "    <tr>\n",
       "      <th>1</th>\n",
       "      <td>1</td>\n",
       "      <td>B</td>\n",
       "      <td>1</td>\n",
       "      <td>2.0</td>\n",
       "      <td>1102.0</td>\n",
       "      <td>2.0</td>\n",
       "      <td>1.0</td>\n",
       "      <td>134</td>\n",
       "      <td>4800000.0</td>\n",
       "    </tr>\n",
       "    <tr>\n",
       "      <th>2</th>\n",
       "      <td>2</td>\n",
       "      <td>B</td>\n",
       "      <td>0</td>\n",
       "      <td>2.0</td>\n",
       "      <td>1112.0</td>\n",
       "      <td>2.0</td>\n",
       "      <td>1.0</td>\n",
       "      <td>242</td>\n",
       "      <td>8800000.0</td>\n",
       "    </tr>\n",
       "    <tr>\n",
       "      <th>3</th>\n",
       "      <td>3</td>\n",
       "      <td>B</td>\n",
       "      <td>1</td>\n",
       "      <td>3.0</td>\n",
       "      <td>1450.0</td>\n",
       "      <td>3.0</td>\n",
       "      <td>3.0</td>\n",
       "      <td>335</td>\n",
       "      <td>5100000.0</td>\n",
       "    </tr>\n",
       "    <tr>\n",
       "      <th>4</th>\n",
       "      <td>4</td>\n",
       "      <td>B</td>\n",
       "      <td>1</td>\n",
       "      <td>2.0</td>\n",
       "      <td>1010.0</td>\n",
       "      <td>2.0</td>\n",
       "      <td>1.0</td>\n",
       "      <td>261</td>\n",
       "      <td>4100000.0</td>\n",
       "    </tr>\n",
       "    <tr>\n",
       "      <th>...</th>\n",
       "      <td>...</td>\n",
       "      <td>...</td>\n",
       "      <td>...</td>\n",
       "      <td>...</td>\n",
       "      <td>...</td>\n",
       "      <td>...</td>\n",
       "      <td>...</td>\n",
       "      <td>...</td>\n",
       "      <td>...</td>\n",
       "    </tr>\n",
       "    <tr>\n",
       "      <th>12558</th>\n",
       "      <td>12558</td>\n",
       "      <td>B</td>\n",
       "      <td>1</td>\n",
       "      <td>3.0</td>\n",
       "      <td>1720.0</td>\n",
       "      <td>3.0</td>\n",
       "      <td>3.0</td>\n",
       "      <td>134</td>\n",
       "      <td>9897000.0</td>\n",
       "    </tr>\n",
       "    <tr>\n",
       "      <th>12559</th>\n",
       "      <td>12559</td>\n",
       "      <td>B</td>\n",
       "      <td>0</td>\n",
       "      <td>3.0</td>\n",
       "      <td>1275.0</td>\n",
       "      <td>3.0</td>\n",
       "      <td>2.0</td>\n",
       "      <td>276</td>\n",
       "      <td>4400000.0</td>\n",
       "    </tr>\n",
       "    <tr>\n",
       "      <th>12560</th>\n",
       "      <td>12560</td>\n",
       "      <td>P</td>\n",
       "      <td>1</td>\n",
       "      <td>2.0</td>\n",
       "      <td>1550.0</td>\n",
       "      <td>2.0</td>\n",
       "      <td>1.0</td>\n",
       "      <td>252</td>\n",
       "      <td>7100000.0</td>\n",
       "    </tr>\n",
       "    <tr>\n",
       "      <th>12561</th>\n",
       "      <td>12561</td>\n",
       "      <td>B</td>\n",
       "      <td>1</td>\n",
       "      <td>3.0</td>\n",
       "      <td>1535.0</td>\n",
       "      <td>3.0</td>\n",
       "      <td>1.0</td>\n",
       "      <td>307</td>\n",
       "      <td>7200000.0</td>\n",
       "    </tr>\n",
       "    <tr>\n",
       "      <th>12562</th>\n",
       "      <td>12562</td>\n",
       "      <td>B</td>\n",
       "      <td>1</td>\n",
       "      <td>1.0</td>\n",
       "      <td>400.0</td>\n",
       "      <td>1.0</td>\n",
       "      <td>1.0</td>\n",
       "      <td>435</td>\n",
       "      <td>2500000.0</td>\n",
       "    </tr>\n",
       "  </tbody>\n",
       "</table>\n",
       "<p>12563 rows × 9 columns</p>\n",
       "</div>"
      ],
      "text/plain": [
       "       Unnamed: 0 area_type  availability  bedrooms  total_sqft  bath  \\\n",
       "0               0         B             1       3.0      1655.0   3.0   \n",
       "1               1         B             1       2.0      1102.0   2.0   \n",
       "2               2         B             0       2.0      1112.0   2.0   \n",
       "3               3         B             1       3.0      1450.0   3.0   \n",
       "4               4         B             1       2.0      1010.0   2.0   \n",
       "...           ...       ...           ...       ...         ...   ...   \n",
       "12558       12558         B             1       3.0      1720.0   3.0   \n",
       "12559       12559         B             0       3.0      1275.0   3.0   \n",
       "12560       12560         P             1       2.0      1550.0   2.0   \n",
       "12561       12561         B             1       3.0      1535.0   3.0   \n",
       "12562       12562         B             1       1.0       400.0   1.0   \n",
       "\n",
       "       balcony  ranked  price in rupees  \n",
       "0          1.0     134       10800000.0  \n",
       "1          1.0     134        4800000.0  \n",
       "2          1.0     242        8800000.0  \n",
       "3          3.0     335        5100000.0  \n",
       "4          1.0     261        4100000.0  \n",
       "...        ...     ...              ...  \n",
       "12558      3.0     134        9897000.0  \n",
       "12559      2.0     276        4400000.0  \n",
       "12560      1.0     252        7100000.0  \n",
       "12561      1.0     307        7200000.0  \n",
       "12562      1.0     435        2500000.0  \n",
       "\n",
       "[12563 rows x 9 columns]"
      ]
     },
     "execution_count": 3,
     "metadata": {},
     "output_type": "execute_result"
    }
   ],
   "source": [
    "data"
   ]
  },
  {
   "cell_type": "code",
   "execution_count": 4,
   "id": "3a20eec9",
   "metadata": {},
   "outputs": [],
   "source": [
    "# delete uneeded columns\n",
    "del data['Unnamed: 0']"
   ]
  },
  {
   "cell_type": "markdown",
   "id": "3d529d03",
   "metadata": {},
   "source": [
    "# Data Structure For Implementing The Algorithms <a class=\"anchor\" id=\"section1\"></a>"
   ]
  },
  {
   "cell_type": "code",
   "execution_count": 5,
   "id": "8deda154",
   "metadata": {},
   "outputs": [],
   "source": [
    "class Node(object):\n",
    "    def __init__(self, classASize, classBSize, pathValue1, pathValue2, score, df, feature):\n",
    "        self.classASize = classASize\n",
    "        self.classBSize = classBSize\n",
    "        self.pathValue1 = pathValue1\n",
    "        self.pathValue2 = pathValue2\n",
    "        self.score = score\n",
    "        self.df = df\n",
    "        self.feature = feature\n",
    "        self.left = None\n",
    "        self.right = None\n",
    "\n",
    "class BinaryTree(object):\n",
    "    def __init__(self, classASize, classBSize, pathValue1, pathValue2, score, df, feature):\n",
    "        self.root = Node(classASize, classBSize, pathValue1, pathValue2, score, df, feature)         "
   ]
  },
  {
   "cell_type": "markdown",
   "id": "5210ecd3",
   "metadata": {},
   "source": [
    "# Classification: Decision Tree & AdaBoost <a class=\"anchor\" id=\"section1\"></a>"
   ]
  },
  {
   "cell_type": "markdown",
   "id": "095b3750",
   "metadata": {},
   "source": [
    "### Gini Functions"
   ]
  },
  {
   "cell_type": "code",
   "execution_count": 6,
   "id": "00a76f61",
   "metadata": {},
   "outputs": [],
   "source": [
    "# calculate weighted gini score for nodes with left and right nodes\n",
    "def calcGiniCategorical(leftNode, rightNode):   \n",
    "    leftNode_total = leftNode.classASize + leftNode.classBSize\n",
    "    rightNode_total = rightNode.classASize + rightNode.classBSize\n",
    "    \n",
    "    #avoiding division by 0\n",
    "    if leftNode_total == 0 or rightNode_total == 0:\n",
    "        return -1\n",
    "    \n",
    "    gini_left = 1 - pow(leftNode.classASize / leftNode_total, 2) - pow(leftNode.classBSize / leftNode_total, 2)\n",
    "    gini_right = 1 - pow(rightNode.classASize / rightNode_total, 2) - pow(rightNode.classBSize / rightNode_total, 2)\n",
    "    \n",
    "    total = leftNode_total + rightNode_total\n",
    "    \n",
    "    weighted_gini = (leftNode_total / total) * gini_left + (rightNode_total / total) * gini_right\n",
    "        \n",
    "    return weighted_gini"
   ]
  },
  {
   "cell_type": "code",
   "execution_count": 7,
   "id": "548e0fcd",
   "metadata": {},
   "outputs": [],
   "source": [
    "# calculate gini score for internal nodes, NOTE: this is not the weighted average \n",
    "def calcGiniOneNodeCategorical(node):   \n",
    "    node_size = node.classASize + node.classBSize\n",
    "    \n",
    "    #avoiding division by 0\n",
    "    if node_size == 0:\n",
    "        return -1\n",
    "    else:\n",
    "        gini_score = 1 - pow(node.classASize / node_size, 2) - pow(node.classBSize / node_size, 2)\n",
    "            \n",
    "    return gini_score"
   ]
  },
  {
   "cell_type": "markdown",
   "id": "2e972940",
   "metadata": {},
   "source": [
    "### Performance Say Function For AdaBoost"
   ]
  },
  {
   "cell_type": "code",
   "execution_count": 8,
   "id": "71759c38",
   "metadata": {},
   "outputs": [],
   "source": [
    "# this function calculates the performance say for each given stump\n",
    "def calcPerformanceSay(node):\n",
    "    left_A_Size = node.left.classASize\n",
    "    left_B_Size = node.left.classBSize\n",
    "    \n",
    "    right_A_Size = node.right.classASize\n",
    "    right_B_Size = node.right.classBSize\n",
    "    \n",
    "    overall_size = left_A_Size + left_B_Size + right_A_Size + right_B_Size\n",
    "    \n",
    "    total_error = 0\n",
    "    \n",
    "    if left_A_Size < left_B_Size:\n",
    "        total_error = total_error + (left_A_Size / overall_size)\n",
    "    else:\n",
    "        total_error = total_error + (left_B_Size / overall_size)\n",
    "        \n",
    "    if right_A_Size < right_B_Size:\n",
    "        total_error = total_error + (right_A_Size / overall_size)\n",
    "    else:\n",
    "        total_error = total_error + (right_B_Size / overall_size)\n",
    "        \n",
    "    perf_say = 0.5 * np.log((1 - total_error) / total_error)\n",
    "    \n",
    "    return perf_say"
   ]
  },
  {
   "cell_type": "markdown",
   "id": "05011500",
   "metadata": {},
   "source": [
    "### Consecutive Averages Function "
   ]
  },
  {
   "cell_type": "code",
   "execution_count": 9,
   "id": "1b9ec002",
   "metadata": {},
   "outputs": [],
   "source": [
    "def consecutive_avgs(data):\n",
    "    # Python code to find average of each consecutive segment\n",
    "  \n",
    "    # Defining Splits\n",
    "    splits = 2\n",
    "  \n",
    "    # Finding average of each consecutive segment\n",
    "    Output = [sum(data[i:i + splits])/splits\n",
    "              for i in range(len(data) - splits + 1)]\n",
    "  \n",
    "    return Output"
   ]
  },
  {
   "cell_type": "markdown",
   "id": "44243e95",
   "metadata": {},
   "source": [
    "### Classification Tree & AdaBoost Models"
   ]
  },
  {
   "cell_type": "code",
   "execution_count": 10,
   "id": "e964b41c",
   "metadata": {},
   "outputs": [],
   "source": [
    "class classification_Tree(object):  \n",
    "    def __init__(self, max_depth = None, min_samples_split = 2, target_feature = None, features = None):\n",
    "        self.max_depth = 6 if max_depth is None else max_depth\n",
    "        self.min_samples_split = 2 if min_samples_split is None else min_samples_split\n",
    "        self.target_feature = None if target_feature is None else target_feature\n",
    "        self.features = features\n",
    " \n",
    "    # replace None values with 0, else return the value\n",
    "    def checkNone(self, values_list, val):\n",
    "        if val not in values_list.index.values:\n",
    "            return 0\n",
    "        return values_list[val]\n",
    "    \n",
    "    # split the data for each feature and return the best split with lowest Gini value\n",
    "    def best_split(self, df):  \n",
    "        # main stump that will contain the best split\n",
    "        main_tree = BinaryTree(None, None, None, None, None, None, None)\n",
    "\n",
    "        # this list stores all features with thier lowest gini value\n",
    "        gini_list = {}\n",
    "        \n",
    "        target_feat_vals = data[self.target_feature].unique()\n",
    "        target_feat_vals.sort()\n",
    "        \n",
    "        # iterate through the features to calculate gini value\n",
    "        for feature in list(self.features.keys()):\n",
    "            tree = BinaryTree(None,None, None, None, None, None, feature)\n",
    "            mini_df = df.loc[:, [self.target_feature, feature]]\n",
    "            if df[feature] is None:\n",
    "                continue\n",
    "            if self.features[feature]: \n",
    "                feat_vals = data[feature].unique()\n",
    "                feat_vals.sort()\n",
    "                if (mini_df[(mini_df[feature] == feat_vals[0])]).empty or (mini_df[(mini_df[feature] == feat_vals[1])]).empty:\n",
    "                    continue\n",
    "                \n",
    "                df_filtered_classA = mini_df[(mini_df[feature] == feat_vals[0])]\n",
    "                df_filtered_classB = mini_df[(mini_df[feature] == feat_vals[1])] \n",
    "                \n",
    "                filtered_classA_byTarget = df_filtered_classA[self.target_feature].value_counts()\n",
    "                filtered_classB_byTarget = df_filtered_classB[self.target_feature].value_counts()\n",
    "                \n",
    "                tree.root.left = Node(self.checkNone(filtered_classA_byTarget, target_feat_vals[0]), self.checkNone(filtered_classA_byTarget, target_feat_vals[1]), None, None, None, df_filtered_classA, feature)\n",
    "                tree.root.right = Node(self.checkNone(filtered_classB_byTarget, target_feat_vals[0]), self.checkNone(filtered_classB_byTarget, target_feat_vals[1]), None, None, None, df_filtered_classB, feature)\n",
    "   \n",
    "                tree.root.left.gini_score = calcGiniOneNodeCategorical(tree.root.left)\n",
    "                tree.root.right.gini_score = calcGiniOneNodeCategorical(tree.root.right)\n",
    "            \n",
    "                if feature not in gini_list:\n",
    "                    gini_list[feature] = list()\n",
    "                    gini_list[feature].extend([calcGiniCategorical(tree.root.left, tree.root.right)])\n",
    "\n",
    "            else:\n",
    "                selected_col = df.loc[:, feature]\n",
    "                unique_vals = selected_col.unique()\n",
    "                sorted_vals = np.sort(unique_vals)\n",
    "                avg_list = consecutive_avgs(sorted_vals)\n",
    "                continuous_gini_list = {}\n",
    "                 \n",
    "                if len(avg_list) > 0:     \n",
    "                    for i in avg_list:   \n",
    "                        if (mini_df[(mini_df[feature] < i)]).empty or (mini_df[(mini_df[feature] > i)]).empty:\n",
    "                            continue\n",
    "                \n",
    "                        df_filtered_classA = mini_df[(mini_df[feature] < i)]\n",
    "                        df_filtered_classB = mini_df[(mini_df[feature] > i)]\n",
    "       \n",
    "                        filtered_classA_byTarget = df_filtered_classA[self.target_feature].value_counts()\n",
    "                        filtered_classB_byTarget = df_filtered_classB[self.target_feature].value_counts()\n",
    "            \n",
    "                        tree.root.left = Node(self.checkNone(filtered_classA_byTarget, target_feat_vals[0]), self.checkNone(filtered_classA_byTarget, target_feat_vals[1]), None, None, None, df_filtered_classA, feature)\n",
    "                        tree.root.right = Node(self.checkNone(filtered_classB_byTarget, target_feat_vals[0]), self.checkNone(filtered_classB_byTarget, target_feat_vals[1]), None, None, None, df_filtered_classB, feature)\n",
    "   \n",
    "                        continuous_gini_list[i] = calcGiniCategorical(tree.root.left, tree.root.right)\n",
    "        \n",
    "                    min_gini_index = min(continuous_gini_list, key=continuous_gini_list.get)\n",
    "\n",
    "                    if feature not in gini_list:\n",
    "                        gini_list[feature] = list()\n",
    "                        gini_list[feature].extend([min_gini_index, continuous_gini_list[min_gini_index]])\n",
    "                \n",
    "        min_gini = 999\n",
    "        min_gini_feature = None\n",
    "        \n",
    "        # find the lowest gini value and its feature\n",
    "        for k, v in gini_list.items():\n",
    "            if not self.features[k]:\n",
    "                if v[1] != -1:\n",
    "                    if v[1] < min_gini:\n",
    "                        min_gini = v[1]\n",
    "                        min_gini_feature = k\n",
    "            else:\n",
    "                if v[0] != -1:\n",
    "                    if v[0] < min_gini:\n",
    "                        min_gini = v[0]\n",
    "                        min_gini_feature = k\n",
    "        \n",
    "\n",
    "        # make sure gini values are between 0 and 1\n",
    "        if (min_gini < 0) or (min_gini > 1):\n",
    "            return None\n",
    "        \n",
    "        # create the tree with 2 nodes(stump) base on the feature with lowest gini value\n",
    "        if self.features[min_gini_feature]:\n",
    "            feat_vals = data[min_gini_feature].unique()\n",
    "            feat_vals.sort()\n",
    "            filtered_class_byTarget = df[self.target_feature].value_counts()\n",
    "            \n",
    "            main_tree.root = Node(self.checkNone(filtered_class_byTarget, target_feat_vals[0]), self.checkNone(filtered_class_byTarget, target_feat_vals[1]), feat_vals[0], feat_vals[1], gini_list[min_gini_feature][0], df, min_gini_feature)\n",
    "           \n",
    "            father_df = main_tree.root.df\n",
    "            if (father_df[father_df[main_tree.root.feature] == main_tree.root.pathValue1]).empty or (father_df[father_df[main_tree.root.feature] == main_tree.root.pathValue2]).empty:\n",
    "                return None\n",
    "            \n",
    "            leftNode_df = father_df[father_df[main_tree.root.feature] == main_tree.root.pathValue1]\n",
    "            rightNode_df = father_df[father_df[main_tree.root.feature] == main_tree.root.pathValue2]\n",
    "\n",
    "            main_tree.root.left = Node(self.checkNone(leftNode_df[self.target_feature].value_counts(), target_feat_vals[0]), self.checkNone(leftNode_df[self.target_feature].value_counts(), target_feat_vals[1]), None, None, None, leftNode_df, None)\n",
    "            main_tree.root.right = Node(self.checkNone(rightNode_df[self.target_feature].value_counts(), target_feat_vals[0]), self.checkNone(rightNode_df[self.target_feature].value_counts(), target_feat_vals[1]), None, None, None, rightNode_df, None)\n",
    "        else:  \n",
    "            filtered_class_byTarget = df[self.target_feature].value_counts()\n",
    "            \n",
    "            main_tree.root = Node(self.checkNone(filtered_class_byTarget, target_feat_vals[0]), self.checkNone(filtered_class_byTarget, target_feat_vals[1]), (-1 * gini_list[min_gini_feature][0]), gini_list[min_gini_feature][0], gini_list[min_gini_feature][1], df, min_gini_feature)\n",
    "           \n",
    "            father_df = main_tree.root.df\n",
    "            if (father_df[father_df[main_tree.root.feature] < abs(main_tree.root.pathValue1)]).empty or (father_df[father_df[main_tree.root.feature] > main_tree.root.pathValue2]).empty:\n",
    "                return None\n",
    "            \n",
    "            leftNode_df = father_df[father_df[main_tree.root.feature] < abs(main_tree.root.pathValue1)]\n",
    "            rightNode_df = father_df[father_df[main_tree.root.feature] > main_tree.root.pathValue2]\n",
    "\n",
    "            main_tree.root.left = Node(self.checkNone(leftNode_df[self.target_feature].value_counts(), target_feat_vals[0]), self.checkNone(leftNode_df[self.target_feature].value_counts(), target_feat_vals[1]), None, None, None, leftNode_df, None)\n",
    "            main_tree.root.right = Node(self.checkNone(rightNode_df[self.target_feature].value_counts(), target_feat_vals[0]), self.checkNone(rightNode_df[self.target_feature].value_counts(), target_feat_vals[1]), None, None, None, rightNode_df, None)\n",
    "   \n",
    "        # if the weighted gini value is bigger than the normal gini value then return None\n",
    "        if main_tree.root.score > calcGiniOneNodeCategorical(main_tree.root):\n",
    "            return None\n",
    "        return main_tree.root\n",
    "            \n",
    "\n",
    "    # recursive function to build the tree with each best split\n",
    "    def add_node(self, root, depth):\n",
    "        if (root is None) or (root.left is None) or (root.right is None):\n",
    "            return\n",
    "        if root.classASize == 0:\n",
    "            return\n",
    "        if root.classBSize == 0:\n",
    "            return\n",
    "        if (root.classASize + root.classBSize) < self.min_samples_split:\n",
    "            return\n",
    "        if root.score == -1:\n",
    "            return\n",
    "        \n",
    "        if depth > self.max_depth:\n",
    "            return;\n",
    "        \n",
    "        root.left = self.add_node(self.best_split(root.left.df), depth + 1)\n",
    "        root.right = self.add_node(self.best_split(root.right.df), depth + 1)\n",
    "        return root;\n",
    "    \n",
    "    # train adaboost model\n",
    "    def train_adaboost(self, train_adaboost_data, k_stumps):        \n",
    "        target_feat_vals = train_adaboost_data[self.target_feature].unique()\n",
    "        target_feat_vals.sort()\n",
    "        \n",
    "        filtered_class_byTarget = train_adaboost_data[self.target_feature].value_counts()\n",
    "        stump = BinaryTree(filtered_class_byTarget[target_feat_vals[0]],filtered_class_byTarget[target_feat_vals[1]], None, None, None, train_adaboost_data, None)\n",
    "        stump.root = self.best_split(stump.root.df)\n",
    "\n",
    "        # store all stumps with their amount of say\n",
    "        stumps_amount_of_say = {}\n",
    "\n",
    "        #create k stumps\n",
    "        for k in range(0, k_stumps):\n",
    "            tmp_df = stump.root.df.copy()\n",
    "            #inital weight\n",
    "            tmp_df[\"SampleWeight\"] = 1 / len(tmp_df.index)\n",
    "        \n",
    "            #performance say\n",
    "            perf_say = calcPerformanceSay(stump.root)\n",
    "            \n",
    "            # calculate the new sample weights for each stump\n",
    "            for i in range(train_adaboost_data.index[0], train_adaboost_data.index[-1]):\n",
    "                dff = tmp_df.loc[i:i, :]\n",
    "                output = self.test_tree(stump.root, dff)\n",
    "                if output == dff.iloc[0][self.target_feature]:\n",
    "                    prev_weight = tmp_df.at[i,'SampleWeight']\n",
    "                    tmp_df.at[i,'SampleWeight'] = prev_weight * pow(np.exp(1), -1 * perf_say)\n",
    "                else:\n",
    "                    prev_weight = tmp_df.at[i,'SampleWeight']\n",
    "                    tmp_df.at[i,'SampleWeight'] = prev_weight * pow(np.exp(1), perf_say)\n",
    "        \n",
    "            # normalize Sample Weight column\n",
    "            tmp_df[\"SampleWeight\"] = tmp_df[\"SampleWeight\"] / sum(tmp_df[\"SampleWeight\"])\n",
    "            new_df = tmp_df.copy()\n",
    "            \n",
    "            sel_col = new_df[[\"SampleWeight\"]]\n",
    "            res = sel_col.cumsum(axis = 0)\n",
    "            \n",
    "            # fill the new dataframe with new data from the old dataframe\n",
    "            for i in range(train_adaboost_data.index[0], train_adaboost_data.index[-1]):\n",
    "                rand = random.uniform(0, 1)\n",
    "                #cur_sum = 0\n",
    "                row_index = res[res['SampleWeight'].gt(rand)].index[0]\n",
    "                new_df.loc[i] = tmp_df.loc[row_index]\n",
    "\n",
    "                    \n",
    "            del new_df['SampleWeight']\n",
    "\n",
    "            stumps_amount_of_say[stump.root] = perf_say\n",
    "                \n",
    "            filtered_class_byTarget = new_df[self.target_feature].value_counts()\n",
    "            stump.root.df = new_df\n",
    "            stump.classASize = filtered_class_byTarget[target_feat_vals[0]]\n",
    "            stump.classBSize = filtered_class_byTarget[target_feat_vals[1]]\n",
    "            stump.root = self.best_split(stump.root.df)\n",
    "            \n",
    "        return stumps_amount_of_say\n",
    "  \n",
    "\n",
    "    # test AdaBoost Model\n",
    "    def test_adaboost(self, stumps_amounts_ofSay, test_data):\n",
    "        counter_true = 0\n",
    "        counter_false = 0\n",
    "        \n",
    "        target_feat_vals = data[self.target_feature].unique()\n",
    "        target_feat_vals.sort()\n",
    "        \n",
    "        tp = 0\n",
    "        fn = 0\n",
    "        fp = 0\n",
    "        tn = 0\n",
    "            \n",
    "        for i in range(test_data.index[0], test_data.index[-1]):\n",
    "            sum_say_true = 0\n",
    "            sum_say_false = 0\n",
    "            result = None\n",
    "            #calculate sum of true and false amount of say for each row\n",
    "            for k,v in stumps_amounts_ofSay.items():\n",
    "                dff = test_data.loc[i:i, :]\n",
    "                output = self.test_tree(k, dff)\n",
    "                if output == target_feat_vals[0]:\n",
    "                    sum_say_true = sum_say_true + v\n",
    "                else:\n",
    "                    sum_say_false = sum_say_false + v\n",
    "     \n",
    "            # decide to which class the row is classified\n",
    "            if sum_say_true > sum_say_false:\n",
    "                result = target_feat_vals[0]\n",
    "            else:\n",
    "                result = target_feat_vals[1]\n",
    "    \n",
    "            dff2 = test_data.loc[i:i, :]\n",
    "\n",
    "            # check the actual class of the current row\n",
    "            if result == dff2.iloc[0][self.target_feature]:\n",
    "                counter_true = counter_true + 1\n",
    "            else:\n",
    "                counter_false = counter_false + 1\n",
    "            \n",
    "            # Sensitivity & Specificity\n",
    "            if result == target_feat_vals[0]:\n",
    "                if result == dff.iloc[0][self.target_feature]:\n",
    "                    tp = tp + 1\n",
    "                else:\n",
    "                    fp = fp + 1\n",
    "            else:\n",
    "                if result == dff.iloc[0][self.target_feature]:\n",
    "                    tn = tn + 1\n",
    "                else:\n",
    "                    fn = fn + 1\n",
    "\n",
    "        \n",
    "        print(\"tp: \" + str(tp))\n",
    "        print(\"fn: \" + str(fn))\n",
    "        print(\"fp: \" + str(fp))\n",
    "        print(\"tn: \" + str(tn))\n",
    "\n",
    "        print(\"Sensitivity: \" + str(tp / (tp + fn)))\n",
    "        print(\"Specificity: \" + str(tn / (tn + fp)))\n",
    "        print(\"Accuracy: \" + str((tp + tn) / (tp + tn + fp + fn)))\n",
    "\n",
    " \n",
    "        return counter_true / (counter_true + counter_false)\n",
    "    \n",
    "    def validate_adaboost(self, parms_list, val_data):\n",
    "        iterations_num = []\n",
    "        iterations_acc = []\n",
    "        acc = 0\n",
    "        best_k = 0\n",
    "        for k in range(parms_list[\"k_stumps\"][0], parms_list[\"k_stumps\"][1] + 10, 10):\n",
    "            iterations_num.append(k)\n",
    "            print(\"k: \" + str(k))\n",
    "            stumps_amount_ofSay = self.train_adaboost(val_data, k)\n",
    "            cur_acc = self.test_adaboost(stumps_amount_ofSay, val_data)\n",
    "            iterations_acc.append(cur_acc)\n",
    "            if acc < cur_acc:\n",
    "                acc = cur_acc\n",
    "                best_k = k\n",
    "        \n",
    "        plt.plot(iterations_num, iterations_acc, color='red', marker='o')\n",
    "        plt.title('Accuracy Vs Number Of Stumps')\n",
    "        plt.xlabel('Stumps Number')\n",
    "        plt.ylabel('Accuracy')\n",
    "        plt.grid(True)\n",
    "        plt.show()\n",
    "        \n",
    "        return best_k\n",
    "        \n",
    "        \n",
    "    # train and test the Classification Tree Model\n",
    "    def train_test_model(self, df, train_data, test_data):\n",
    "        #train_data = df.loc[:8040, :]\n",
    "        \n",
    "        filtered_class_byTarget = train_data[self.target_feature].value_counts()\n",
    "        \n",
    "        # get categorical values of target feature\n",
    "        target_feat_vals = data[self.target_feature].unique()\n",
    "        target_feat_vals.sort()\n",
    "        \n",
    "        #initalize tree parameters with the original training data\n",
    "        tree = BinaryTree(filtered_class_byTarget[target_feat_vals[0]],filtered_class_byTarget[target_feat_vals[1]], None, None, None, train_data, None)\n",
    "   \n",
    "        #Inital tree to start with\n",
    "        tree.root = self.best_split(tree.root.df)\n",
    "        \n",
    "        #call the best_split function to create the whole tree and return the root of that tree\n",
    "        class_tree = self.add_node(tree.root, 0)\n",
    "        \n",
    "        tp = 0\n",
    "        fn = 0\n",
    "        fp = 0\n",
    "        tn = 0\n",
    "        # Sensitivity & Specificity\n",
    "        for i in range(test_data.index[0], test_data.index[-1]):\n",
    "            dff = data.loc[i:i, :]\n",
    "            output = self.test_tree(class_tree, dff)\n",
    "            if output == target_feat_vals[0]:\n",
    "                if output == dff.iloc[0][self.target_feature]:\n",
    "                    tp = tp + 1\n",
    "                else:\n",
    "                    fp = fp + 1\n",
    "            else:\n",
    "                if output == dff.iloc[0][self.target_feature]:\n",
    "                    tn = tn + 1\n",
    "                else:\n",
    "                    fn = fn + 1\n",
    "\n",
    "        \n",
    "        print(\"tp: \" + str(tp))\n",
    "        print(\"fn: \" + str(fn))\n",
    "        print(\"fp: \" + str(fp))\n",
    "        print(\"tn: \" + str(tn))\n",
    "\n",
    "        print(\"Sensitivity: \" + str(tp / (tp + fn)))\n",
    "        print(\"Specificity: \" + str(tn / (tn + fp)))\n",
    "        print(\"Accuracy: \" + str((tp + tn) / (tp + tn + fp + fn)))\n",
    "\n",
    "        return (tp + tn) / (tp + tn + fp + fn)\n",
    "        \n",
    "    # this function validates the model with given hyper-parameters\n",
    "    def validate_model(self, df, parms_list, validation_data):\n",
    "        #validation_data = df.loc[8041:10050, :]\n",
    "        max_depth = 0\n",
    "        best_acc = 0\n",
    "        depths = []\n",
    "        depth_acc = []\n",
    "        for i in range(parms_list[\"max_depth\"][0], parms_list[\"max_depth\"][1] + 1):\n",
    "            depths.append(i)\n",
    "            self.max_depth = i\n",
    "        \n",
    "            filtered_class_byTarget = validation_data[self.target_feature].value_counts()\n",
    "        \n",
    "            # get categorical values of target feature\n",
    "            target_feat_vals = data[self.target_feature].unique()\n",
    "            target_feat_vals.sort()\n",
    "            \n",
    "            tree = BinaryTree(filtered_class_byTarget[target_feat_vals[0]],filtered_class_byTarget[target_feat_vals[1]], None, None, None, df, None)\n",
    "        \n",
    "            tree.root = self.best_split(tree.root.df)\n",
    "        \n",
    "            test = self.add_node(tree.root, 0)\n",
    "        \n",
    "            counter_true = 0\n",
    "            counter_false = 0\n",
    "        \n",
    "            for j in range(validation_data.index[0], validation_data.index[-1]):\n",
    "                dff = data.loc[j:j, :]\n",
    "                output = self.test_tree(test, dff)\n",
    "                if output == dff.iloc[0][self.target_feature]:\n",
    "                    counter_true = counter_true + 1\n",
    "                else:\n",
    "                    counter_false = counter_false + 1\n",
    "        \n",
    "            cur_acc = counter_true / (counter_true + counter_false)\n",
    "            if cur_acc > best_acc:\n",
    "                best_acc = cur_acc\n",
    "                max_depth = i\n",
    "                \n",
    "            depth_acc.append(cur_acc)\n",
    "        \n",
    "        plt.plot(depths, depth_acc, color='red', marker='o')\n",
    "        plt.title('Accuracy Vs Tree Depth')\n",
    "        plt.xlabel('Depth')\n",
    "        plt.ylabel('Accuracy')\n",
    "        plt.grid(True)\n",
    "        plt.show()\n",
    "        return max_depth\n",
    "    \n",
    "    # this function returns the output for each given row\n",
    "    def test_tree(self, root, row):\n",
    "        while(root.left is not None and root.right is not None):\n",
    "            tmp = row[root.feature].tolist()\n",
    "            tmp.sort()\n",
    "            if self.features[root.feature]:\n",
    "                if tmp[0] == root.left.pathValue1:\n",
    "                    root = root.left\n",
    "                else:\n",
    "                    root = root.right\n",
    "            else:   \n",
    "                if tmp[0] < root.pathValue2:\n",
    "                    root = root.left\n",
    "                else:\n",
    "                    root = root.right\n",
    "\n",
    "        \n",
    "        target_feat_vals = data[self.target_feature].unique()\n",
    "        target_feat_vals.sort()\n",
    "        if root.classASize > root.classBSize:\n",
    "            return target_feat_vals[0]\n",
    "        else:\n",
    "            return target_feat_vals[1]\n",
    "                "
   ]
  },
  {
   "cell_type": "markdown",
   "id": "a80ccbbd",
   "metadata": {},
   "source": [
    "### Classification Data"
   ]
  },
  {
   "cell_type": "code",
   "execution_count": 11,
   "id": "0870faf7",
   "metadata": {},
   "outputs": [],
   "source": [
    "# True = Categorical, False = Continuous\n",
    "target_feat = \"area_type\"\n",
    "features_list = {\"bedrooms\":False, \"price in rupees\":False, \"ranked\":False, \"total_sqft\":False, \"balcony\":False, \"bath\":False, \"availability\":True}"
   ]
  },
  {
   "cell_type": "code",
   "execution_count": 12,
   "id": "f1c3347a",
   "metadata": {},
   "outputs": [],
   "source": [
    "X_cls_train = data.loc[:8040, :]\n",
    "X_cls_validate = data.loc[8041:10050, :]\n",
    "X_cls_test = data.loc[10051:12563, :]"
   ]
  },
  {
   "cell_type": "markdown",
   "id": "378e1637",
   "metadata": {},
   "source": [
    "### Define The Decision Tree Model\n"
   ]
  },
  {
   "cell_type": "code",
   "execution_count": 13,
   "id": "d8b0ee20",
   "metadata": {},
   "outputs": [],
   "source": [
    "class_model = classification_Tree(6, 2, target_feat, features_list)"
   ]
  },
  {
   "cell_type": "markdown",
   "id": "ce536033",
   "metadata": {},
   "source": [
    "### Fit The Decsion Tree Model\n",
    "### Note: Only Max Depth Can Be Tuned\n"
   ]
  },
  {
   "cell_type": "code",
   "execution_count": 14,
   "id": "8b14c2bf",
   "metadata": {},
   "outputs": [],
   "source": [
    "# define parameter grid\n",
    "parameters_grid = {\n",
    "    'max_depth': [2, 10],\n",
    "}"
   ]
  },
  {
   "cell_type": "code",
   "execution_count": 15,
   "id": "b69fb829",
   "metadata": {},
   "outputs": [
    {
     "data": {
      "image/png": "[encoded data removed]",
      "text/plain": [
       "<Figure size 432x288 with 1 Axes>"
      ]
     },
     "metadata": {
      "needs_background": "light"
     },
     "output_type": "display_data"
    }
   ],
   "source": [
    "class_best_depth = class_model.validate_model(X_cls_train, parameters_grid, X_cls_validate)"
   ]
  },
  {
   "cell_type": "code",
   "execution_count": 16,
   "id": "26c9d51d",
   "metadata": {},
   "outputs": [
    {
     "data": {
      "text/plain": [
       "7"
      ]
     },
     "execution_count": 16,
     "metadata": {},
     "output_type": "execute_result"
    }
   ],
   "source": [
    "class_best_depth"
   ]
  },
  {
   "cell_type": "code",
   "execution_count": 17,
   "id": "df96f450",
   "metadata": {},
   "outputs": [],
   "source": [
    "class_model.max_depth = class_best_depth"
   ]
  },
  {
   "cell_type": "markdown",
   "id": "a9ec8b8d",
   "metadata": {},
   "source": [
    "### Predict And Evaluate The Decision Tree Model"
   ]
  },
  {
   "cell_type": "code",
   "execution_count": 18,
   "id": "e59a56ad",
   "metadata": {},
   "outputs": [
    {
     "name": "stdout",
     "output_type": "stream",
     "text": [
      "tp: 6706\n",
      "fn: 150\n",
      "fp: 437\n",
      "tn: 747\n",
      "Sensitivity: 0.9781213535589265\n",
      "Specificity: 0.6309121621621622\n",
      "Accuracy: 0.9269900497512438\n"
     ]
    },
    {
     "data": {
      "text/plain": [
       "0.9269900497512438"
      ]
     },
     "execution_count": 18,
     "metadata": {},
     "output_type": "execute_result"
    }
   ],
   "source": [
    "# check the bias of the model\n",
    "class_model.train_test_model(data, X_cls_train, X_cls_train)"
   ]
  },
  {
   "cell_type": "code",
   "execution_count": 19,
   "id": "72f82c83",
   "metadata": {},
   "outputs": [
    {
     "name": "stdout",
     "output_type": "stream",
     "text": [
      "tp: 2068\n",
      "fn: 93\n",
      "fp: 145\n",
      "tn: 205\n",
      "Sensitivity: 0.956964368347987\n",
      "Specificity: 0.5857142857142857\n",
      "Accuracy: 0.9052170450019913\n"
     ]
    }
   ],
   "source": [
    "# check the actual accuracy of the model using new test data\n",
    "dt_accuracy = class_model.train_test_model(data, X_cls_train, X_cls_test)"
   ]
  },
  {
   "cell_type": "markdown",
   "id": "f880f40e",
   "metadata": {},
   "source": [
    "### Section D Answer: We can see that we got a pretty high score for Sensitivity compared to Specificity which has a low score,  \"A highly sensitive test means that there are few false negative results, and thus fewer cases of the predicted feature are missed\", meanwhile \"A test with low specificity can be thought of as being too eager to find a positive result, even when it is not present, and may give a high number of false positives.\"\n",
    "### So long story short we need to lower the number of fp cases in our model, but how do we do that? Since our categorical features do not have a definitive class which is true or false the Sensitivity and Specificity values could be swapped then we get a high Specificity but low Sensitivity, in other words there is a tradeoff between the tow metrics, but if we want to get both metrics to return high values our model must return less fp and fn values, a suggested method to solve this problem would be to use the ROC Curve to determine the best cut-off for tp and fp cases."
   ]
  },
  {
   "cell_type": "code",
   "execution_count": 20,
   "id": "3f2adf9e",
   "metadata": {},
   "outputs": [
    {
     "data": {
      "text/plain": [
       "0.9052170450019913"
      ]
     },
     "execution_count": 20,
     "metadata": {},
     "output_type": "execute_result"
    }
   ],
   "source": [
    "dt_accuracy"
   ]
  },
  {
   "cell_type": "markdown",
   "id": "d63edb3c",
   "metadata": {},
   "source": [
    "### Fit AdaBoost Model"
   ]
  },
  {
   "cell_type": "markdown",
   "id": "5e2417bf",
   "metadata": {},
   "source": [
    "### Note: Only Number Of Iterations Can Be Tuned"
   ]
  },
  {
   "cell_type": "code",
   "execution_count": 21,
   "id": "943204a6",
   "metadata": {},
   "outputs": [],
   "source": [
    "# define parameter grid for AdaBoost Validation\n",
    "param_grid_ada = {\n",
    "    'k_stumps': [50, 100],\n",
    "}"
   ]
  },
  {
   "cell_type": "code",
   "execution_count": 22,
   "id": "59c09ead",
   "metadata": {},
   "outputs": [
    {
     "name": "stdout",
     "output_type": "stream",
     "text": [
      "k: 50\n",
      "tp: 1624\n",
      "fn: 84\n",
      "fp: 133\n",
      "tn: 168\n",
      "Sensitivity: 0.9508196721311475\n",
      "Specificity: 0.5581395348837209\n",
      "Accuracy: 0.89198606271777\n",
      "k: 60\n",
      "tp: 1615\n",
      "fn: 93\n",
      "fp: 131\n",
      "tn: 170\n",
      "Sensitivity: 0.9455503512880562\n",
      "Specificity: 0.5647840531561462\n",
      "Accuracy: 0.8885017421602788\n",
      "k: 70\n",
      "tp: 1623\n",
      "fn: 85\n",
      "fp: 125\n",
      "tn: 176\n",
      "Sensitivity: 0.9502341920374707\n",
      "Specificity: 0.584717607973422\n",
      "Accuracy: 0.8954703832752613\n",
      "k: 80\n",
      "tp: 1501\n",
      "fn: 207\n",
      "fp: 102\n",
      "tn: 199\n",
      "Sensitivity: 0.8788056206088993\n",
      "Specificity: 0.6611295681063123\n",
      "Accuracy: 0.8461921353907417\n",
      "k: 90\n",
      "tp: 1630\n",
      "fn: 78\n",
      "fp: 148\n",
      "tn: 153\n",
      "Sensitivity: 0.9543325526932084\n",
      "Specificity: 0.5083056478405316\n",
      "Accuracy: 0.8875062220009955\n",
      "k: 100\n",
      "tp: 1653\n",
      "fn: 55\n",
      "fp: 131\n",
      "tn: 170\n",
      "Sensitivity: 0.9677985948477752\n",
      "Specificity: 0.5647840531561462\n",
      "Accuracy: 0.90741662518666\n"
     ]
    },
    {
     "data": {
      "image/png": "[encoded data removed]",
      "text/plain": [
       "<Figure size 432x288 with 1 Axes>"
      ]
     },
     "metadata": {
      "needs_background": "light"
     },
     "output_type": "display_data"
    }
   ],
   "source": [
    "best_k = class_model.validate_adaboost(param_grid_ada, X_cls_validate)"
   ]
  },
  {
   "cell_type": "code",
   "execution_count": 23,
   "id": "1a377556",
   "metadata": {},
   "outputs": [
    {
     "data": {
      "text/plain": [
       "100"
      ]
     },
     "execution_count": 23,
     "metadata": {},
     "output_type": "execute_result"
    }
   ],
   "source": [
    "best_k"
   ]
  },
  {
   "cell_type": "markdown",
   "id": "58a8ad5b",
   "metadata": {},
   "source": [
    "### Predict And Evaluate Adaboost"
   ]
  },
  {
   "cell_type": "code",
   "execution_count": 24,
   "id": "09c287f8",
   "metadata": {},
   "outputs": [],
   "source": [
    "stumps_amounts_ofSay = class_model.train_adaboost(X_cls_train, best_k)"
   ]
  },
  {
   "cell_type": "code",
   "execution_count": 25,
   "id": "ad636b70",
   "metadata": {},
   "outputs": [
    {
     "name": "stdout",
     "output_type": "stream",
     "text": [
      "tp: 6634\n",
      "fn: 222\n",
      "fp: 585\n",
      "tn: 599\n",
      "Sensitivity: 0.9676196032672112\n",
      "Specificity: 0.5059121621621622\n",
      "Accuracy: 0.8996268656716417\n"
     ]
    },
    {
     "data": {
      "text/plain": [
       "0.8996268656716417"
      ]
     },
     "execution_count": 25,
     "metadata": {},
     "output_type": "execute_result"
    }
   ],
   "source": [
    "# check the bias of the model\n",
    "class_model.test_adaboost(stumps_amounts_ofSay, X_cls_train)"
   ]
  },
  {
   "cell_type": "code",
   "execution_count": 26,
   "id": "a2be0db2",
   "metadata": {},
   "outputs": [
    {
     "name": "stdout",
     "output_type": "stream",
     "text": [
      "tp: 2060\n",
      "fn: 101\n",
      "fp: 172\n",
      "tn: 178\n",
      "Sensitivity: 0.9532623785284591\n",
      "Specificity: 0.5085714285714286\n",
      "Accuracy: 0.8912783751493429\n"
     ]
    }
   ],
   "source": [
    "# check the actual accuracy of the model using new test data\n",
    "adaboost_acc = class_model.test_adaboost(stumps_amounts_ofSay, X_cls_test)"
   ]
  },
  {
   "cell_type": "markdown",
   "id": "fddfda86",
   "metadata": {},
   "source": [
    "### Section D Answer: The Same as Decision Tree..."
   ]
  },
  {
   "cell_type": "code",
   "execution_count": 27,
   "id": "a3c56558",
   "metadata": {},
   "outputs": [
    {
     "data": {
      "text/plain": [
       "0.8912783751493429"
      ]
     },
     "execution_count": 27,
     "metadata": {},
     "output_type": "execute_result"
    }
   ],
   "source": [
    "adaboost_acc"
   ]
  },
  {
   "cell_type": "markdown",
   "id": "a66a6597",
   "metadata": {},
   "source": [
    "### Conclusion: Observing the results we can see that our Decision Tree and Adaboost models have low bias and low variance which means they neither overfit or underfit the data"
   ]
  },
  {
   "cell_type": "markdown",
   "id": "0c0ad30a",
   "metadata": {},
   "source": [
    "# Regression Tree <a class=\"anchor\" id=\"section1\"></a>"
   ]
  },
  {
   "cell_type": "markdown",
   "id": "102169d4",
   "metadata": {},
   "source": [
    "### SSR Function"
   ]
  },
  {
   "cell_type": "code",
   "execution_count": 18,
   "id": "c27aaa99",
   "metadata": {},
   "outputs": [],
   "source": [
    "def calc_SSR(left_node, right_node, target_feat):\n",
    "    left_df = left_node.df\n",
    "    right_df = right_node.df\n",
    "    \n",
    "    left_avg = left_df[target_feat].mean()\n",
    "    right_avg = right_df[target_feat].mean()\n",
    "    \n",
    "    left_col_target = left_df[target_feat]\n",
    "    right_col_target = right_df[target_feat]\n",
    "    \n",
    "    ssr = 0\n",
    "    \n",
    "    for cellVal in left_col_target.values:\n",
    "        ssr = ssr + pow((cellVal - left_avg), 2)\n",
    "        \n",
    "    for cellVal in right_col_target.values:\n",
    "        ssr = ssr + pow((cellVal - right_avg), 2)\n",
    "\n",
    "    return ssr\n",
    "    "
   ]
  },
  {
   "cell_type": "markdown",
   "id": "06b44a4b",
   "metadata": {},
   "source": [
    "### Leaf Node Average"
   ]
  },
  {
   "cell_type": "code",
   "execution_count": 19,
   "id": "46ab2123",
   "metadata": {},
   "outputs": [],
   "source": [
    "def calc_leafNode_avg(node, target_feat):\n",
    "    node_df = node.df\n",
    "    node_avg = node_df[target_feat].mean()\n",
    "\n",
    "    return node_avg"
   ]
  },
  {
   "cell_type": "markdown",
   "id": "464a3985",
   "metadata": {},
   "source": [
    "### Regression Tree Model"
   ]
  },
  {
   "cell_type": "code",
   "execution_count": 21,
   "id": "7218a443",
   "metadata": {},
   "outputs": [],
   "source": [
    "class regression_Tree(object):  \n",
    "    def __init__(self, max_depth = None, min_samples_split = 2, target_feature = None, features = None):\n",
    "        self.max_depth = 6 if max_depth is None else max_depth\n",
    "        self.min_samples_split = 2 if min_samples_split is None else min_samples_split\n",
    "        self.target_feature = None if target_feature is None else target_feature\n",
    "        self.features = features\n",
    " \n",
    "    # get best split base on lowest SSR value\n",
    "    def best_split(self, df):  \n",
    "        main_tree = BinaryTree(None, None, None, None, None, None, None)\n",
    "\n",
    "        ssr_list = {}\n",
    "        \n",
    "        target_feat_vals = data[self.target_feature].unique()\n",
    "        target_feat_vals.sort()\n",
    "        \n",
    "        # iterate over the features to get their lowest SSR value\n",
    "        for feature in list(self.features.keys()):\n",
    "            tree = BinaryTree(None,None, None, None, None, None, feature)\n",
    "            mini_df = df.loc[:, [self.target_feature, feature]]\n",
    "            if self.features[feature]:\n",
    "                \n",
    "                feat_vals = df[feature].unique()\n",
    "                feat_vals.sort()\n",
    "                \n",
    "                if len(feat_vals) < 2:\n",
    "                    continue\n",
    "\n",
    "                if (mini_df[(mini_df[feature] == feat_vals[0])]).empty or (mini_df[(mini_df[feature] == feat_vals[1])]).empty:\n",
    "                    continue\n",
    "                \n",
    "                df_filtered_classA = mini_df[(mini_df[feature] == feat_vals[0])]\n",
    "                df_filtered_classB = mini_df[(mini_df[feature] == feat_vals[1])] \n",
    "                \n",
    "                count_row_A = df_filtered_classA.shape[0]\n",
    "                count_row_B = df_filtered_classB.shape[0]\n",
    "                \n",
    "                tree.root.left = Node(count_row_A, None, None, None, None, df_filtered_classA, feature)\n",
    "                tree.root.right = Node(count_row_B, None, None, None, None, df_filtered_classB, feature)\n",
    "            \n",
    "                if feature not in ssr_list:\n",
    "                    ssr_list[feature] = list()\n",
    "                    ssr_list[feature].extend([calc_SSR(tree.root.left, tree.root.right, self.target_feature)])\n",
    "\n",
    "            else:\n",
    "                selected_col = df.loc[:, feature]\n",
    "                unique_vals = selected_col.unique()\n",
    "                sorted_vals = np.sort(unique_vals)\n",
    "                avg_list = consecutive_avgs(sorted_vals)\n",
    "                continuous_ssr_list = {}\n",
    "                 \n",
    "                if len(avg_list) > 0:     \n",
    "                    for i in avg_list:   \n",
    "                        if (mini_df[(mini_df[feature] < i)]).empty or (mini_df[(mini_df[feature] > i)]).empty:\n",
    "                            continue\n",
    "                \n",
    "                        df_filtered_classA = mini_df[(mini_df[feature] < i)]\n",
    "                        df_filtered_classB = mini_df[(mini_df[feature] > i)]\n",
    "                        \n",
    "                        count_row_A = df_filtered_classA.shape[0]\n",
    "                        count_row_B = df_filtered_classB.shape[0]\n",
    "            \n",
    "                        tree.root.left = Node(count_row_A, None, None, None, None, df_filtered_classA, feature)\n",
    "                        tree.root.right = Node(count_row_B, None, None, None, None, df_filtered_classB, feature)\n",
    "   \n",
    "                        continuous_ssr_list[i] = calc_SSR(tree.root.left, tree.root.right, self.target_feature)\n",
    "        \n",
    "                    min_ssr_index = min(continuous_ssr_list, key=continuous_ssr_list.get)\n",
    "\n",
    "                    if feature not in ssr_list:\n",
    "                        ssr_list[feature] = list()\n",
    "                        ssr_list[feature].extend([min_ssr_index, continuous_ssr_list[min_ssr_index]])\n",
    "\n",
    "        min_ssr = None\n",
    "        min_ssr_feature = None\n",
    "        \n",
    "        # get the lowest SSR value with its feature\n",
    "        for k, v in ssr_list.items():\n",
    "            if not self.features[k]:\n",
    "                if min_ssr != None:\n",
    "                    if v[1] < min_ssr:\n",
    "                        min_ssr = v[1]\n",
    "                        min_ssr_feature = k\n",
    "                else:\n",
    "                    min_ssr = v[1]\n",
    "                    min_ssr_feature = k\n",
    "            else:\n",
    "                if min_ssr != None:\n",
    "                    if v[0] < min_ssr:\n",
    "                        min_ssr = v[0]\n",
    "                        min_ssr_feature = k\n",
    "                else:\n",
    "                    min_ssr = v[0]\n",
    "                    min_ssr_feature = k\n",
    "        \n",
    "\n",
    "        if (min_ssr is None) or (min_ssr_feature is None):\n",
    "            return None\n",
    "                \n",
    "        # build the root with its left and right nodes base on the best feature we found earlier\n",
    "        if self.features[min_ssr_feature]:\n",
    "            count_row = df.shape[0]\n",
    "            feat_vals = df[min_ssr_feature].unique()\n",
    "            feat_vals.sort()\n",
    "            \n",
    "            if (feat_vals[0] is None) or (feat_vals[1] is None):\n",
    "                return None\n",
    "            \n",
    "            main_tree.root = Node(count_row, None, feat_vals[0], feat_vals[1], ssr_list[min_ssr_feature][0], df, min_ssr_feature)\n",
    "           \n",
    "            father_df = main_tree.root.df\n",
    "            if (father_df[father_df[main_tree.root.feature] == main_tree.root.pathValue1]).empty or (father_df[father_df[main_tree.root.feature] == main_tree.root.pathValue2]).empty:\n",
    "                return None\n",
    "            \n",
    "            leftNode_df = father_df[father_df[main_tree.root.feature] == main_tree.root.pathValue1]\n",
    "            rightNode_df = father_df[father_df[main_tree.root.feature] == main_tree.root.pathValue2]\n",
    "\n",
    "            count_row_A = leftNode_df.shape[0]\n",
    "            count_row_B = rightNode_df.shape[0]\n",
    "            \n",
    "            main_tree.root.left = Node(count_row_A, None, None, None, None, leftNode_df, None)\n",
    "            main_tree.root.right = Node(count_row_B, None, None, None, None, rightNode_df, None)\n",
    "        else:  \n",
    "            count_row = df.shape[0]\n",
    "                        \n",
    "            main_tree.root = Node(count_row, None, (-1 * ssr_list[min_ssr_feature][0]), ssr_list[min_ssr_feature][0], ssr_list[min_ssr_feature][1], df, min_ssr_feature)\n",
    "           \n",
    "            father_df = main_tree.root.df\n",
    "            if (father_df[father_df[main_tree.root.feature] < abs(main_tree.root.pathValue1)]).empty or (father_df[father_df[main_tree.root.feature] > main_tree.root.pathValue2]).empty:\n",
    "                return None\n",
    "            \n",
    "            leftNode_df = father_df[father_df[main_tree.root.feature] < abs(main_tree.root.pathValue1)]\n",
    "            rightNode_df = father_df[father_df[main_tree.root.feature] > main_tree.root.pathValue2]\n",
    "            \n",
    "            count_row_A = leftNode_df.shape[0]\n",
    "            count_row_B = rightNode_df.shape[0]\n",
    "\n",
    "            main_tree.root.left = Node(count_row_A, None, None, None, None, leftNode_df, None)\n",
    "            main_tree.root.right = Node(count_row_B, None, None, None, None, rightNode_df, None)\n",
    "   \n",
    "        return main_tree.root\n",
    "            \n",
    "    # recursively build the tree\n",
    "    def add_node(self, root, depth):\n",
    "        if (root is None) or (root.left is None) or (root.right is None):\n",
    "            return\n",
    "\n",
    "        if root.classASize < self.min_samples_split:\n",
    "            return\n",
    "        \n",
    "        if depth > self.max_depth:\n",
    "            return;\n",
    "        \n",
    "        root.left = self.add_node(self.best_split(root.left.df), depth + 1)\n",
    "        root.right = self.add_node(self.best_split(root.right.df), depth + 1)\n",
    "        return root;\n",
    "\n",
    "    #train and test the final model\n",
    "    def train_test_model(self, df, train_data, test_data):                \n",
    "        count_row = train_data.shape[0]\n",
    "\n",
    "        tree = BinaryTree(count_row,None, None, None, None, train_data, None)\n",
    "        \n",
    "        tree.root = self.best_split(tree.root.df)\n",
    "        \n",
    "        test = self.add_node(tree.root, 0)\n",
    "        \n",
    "        true_list = []\n",
    "        predicted_list = []\n",
    "        \n",
    "        # testing phase\n",
    "        for i in range(test_data.index[0], test_data.index[-1]):\n",
    "            dff = test_data.loc[i:i, :]\n",
    "            tmp = dff[self.target_feature].tolist()\n",
    "            true_list.append(tmp[0])\n",
    "            predicted_val = self.test_tree(test, dff)\n",
    "            predicted_list.append(predicted_val)\n",
    "\n",
    "        # Mean Squared Error\n",
    "        MSE = round(mean_squared_error(true_list, predicted_list), 6)\n",
    "\n",
    "        print(\"MSE: \" + str(MSE))\n",
    "        \n",
    "        return MSE\n",
    "        \n",
    "    \n",
    "    # this function validates the model with given hyper-parameters\n",
    "    def validate_model(self, df, parms_list, validation_data):        \n",
    "        #validation_data = df.loc[8041:10050, :]\n",
    "        max_depth = 0\n",
    "        best_mse = -1\n",
    "        depths = []\n",
    "        depth_mse = []\n",
    "        \n",
    "        for i in range(parms_list[\"max_depth\"][0], parms_list[\"max_depth\"][1] + 1):\n",
    "            depths.append(i)\n",
    "            self.max_depth = i\n",
    "                        \n",
    "            count_row = validation_data.shape[0]\n",
    "\n",
    "            tree = BinaryTree(count_row,None, None, None, None, df, None)\n",
    "        \n",
    "            tree.root = self.best_split(tree.root.df)\n",
    "        \n",
    "            reg_tree = self.add_node(tree.root, 0)\n",
    "        \n",
    "            true_list = []\n",
    "            predicted_list = []\n",
    "        \n",
    "            # validation phase\n",
    "            for j in range(validation_data.index[0], validation_data.index[-1]):\n",
    "                dff = validation_data.loc[j:j, :]\n",
    "                tmp = dff[self.target_feature].tolist()\n",
    "                true_list.append(tmp[0])\n",
    "                predicted_val = self.test_tree(reg_tree, dff)\n",
    "                predicted_list.append(predicted_val)\n",
    "        \n",
    "            MSE = round(mean_squared_error(true_list, predicted_list), 6)\n",
    "\n",
    "            depth_mse.append(MSE)\n",
    "            \n",
    "            if best_mse < 0:\n",
    "                best_mse = MSE\n",
    "                max_depth = i\n",
    "            if best_mse > MSE:\n",
    "                best_mse = MSE\n",
    "                max_depth = i\n",
    "            \n",
    "            \n",
    "        plt.plot(depths, depth_mse, color='red', marker='o')\n",
    "        plt.title('MSE Vs Tree Depth')\n",
    "        plt.xlabel('Depth')\n",
    "        plt.ylabel('MSE')\n",
    "        plt.grid(True)\n",
    "        plt.show()\n",
    "        \n",
    "        return max_depth\n",
    "    \n",
    "    # test each row and return its selected output class\n",
    "    def test_tree(self, root, row):\n",
    "        while(root.left is not None and root.right is not None):\n",
    "            tmp = row[root.feature].tolist()\n",
    "            if self.features[root.feature]:\n",
    "                if tmp[0] == root.pathValue1:\n",
    "                    root = root.left\n",
    "                else:\n",
    "                    root = root.right\n",
    "            else:   \n",
    "                if tmp[0] < root.pathValue2:\n",
    "                    root = root.left\n",
    "                else:\n",
    "                    root = root.right\n",
    "\n",
    "        return calc_leafNode_avg(root, self.target_feature)\n"
   ]
  },
  {
   "cell_type": "markdown",
   "id": "95f1ee5d",
   "metadata": {},
   "source": [
    "### Regression Data"
   ]
  },
  {
   "cell_type": "code",
   "execution_count": 22,
   "id": "89e03ddf",
   "metadata": {},
   "outputs": [],
   "source": [
    "reg_target_feat = \"price in rupees\"\n",
    "# True = Categorical, False = Continuous\n",
    "reg_features_list = {\"bedrooms\":False, \"area_type\":True, \"ranked\":False, \"total_sqft\":False, \"balcony\":False, \"bath\":False, \"availability\":True}"
   ]
  },
  {
   "cell_type": "code",
   "execution_count": 23,
   "id": "2cc86f3c",
   "metadata": {},
   "outputs": [],
   "source": [
    "X_cls_train = data.loc[:8040, :]\n",
    "X_cls_validate = data.loc[8041:10050, :]\n",
    "X_cls_test = data.loc[10051:12563, :]"
   ]
  },
  {
   "cell_type": "markdown",
   "id": "bc226ba6",
   "metadata": {},
   "source": [
    "### Define The Regression Tree Model"
   ]
  },
  {
   "cell_type": "code",
   "execution_count": 24,
   "id": "8554bf72",
   "metadata": {},
   "outputs": [],
   "source": [
    "reg_model = regression_Tree(6, 2, reg_target_feat, reg_features_list)"
   ]
  },
  {
   "cell_type": "markdown",
   "id": "22e0500c",
   "metadata": {},
   "source": [
    "### Fit The Regression Tree Model"
   ]
  },
  {
   "cell_type": "markdown",
   "id": "39983c54",
   "metadata": {},
   "source": [
    "### Note: Only Max Depth Can Be Tuned"
   ]
  },
  {
   "cell_type": "code",
   "execution_count": 25,
   "id": "e3e4d876",
   "metadata": {},
   "outputs": [],
   "source": [
    "# define parameter grid\n",
    "parameters_grid = {\n",
    "    'max_depth': [2, 10],\n",
    "}"
   ]
  },
  {
   "cell_type": "code",
   "execution_count": 26,
   "id": "47333332",
   "metadata": {},
   "outputs": [
    {
     "data": {
      "image/png": "[encoded data removed]",
      "text/plain": [
       "<Figure size 432x288 with 1 Axes>"
      ]
     },
     "metadata": {
      "needs_background": "light"
     },
     "output_type": "display_data"
    }
   ],
   "source": [
    "reg_best_depth = reg_model.validate_model(X_cls_train, parameters_grid, X_cls_validate)"
   ]
  },
  {
   "cell_type": "code",
   "execution_count": 27,
   "id": "f5d665d9",
   "metadata": {},
   "outputs": [
    {
     "data": {
      "text/plain": [
       "8"
      ]
     },
     "execution_count": 27,
     "metadata": {},
     "output_type": "execute_result"
    }
   ],
   "source": [
    "reg_best_depth"
   ]
  },
  {
   "cell_type": "code",
   "execution_count": 28,
   "id": "379d30b3",
   "metadata": {},
   "outputs": [],
   "source": [
    "reg_model.max_depth = reg_best_depth"
   ]
  },
  {
   "cell_type": "markdown",
   "id": "d8af83dd",
   "metadata": {},
   "source": [
    "### Predict And Evaluate The Decision Tree Model"
   ]
  },
  {
   "cell_type": "code",
   "execution_count": 29,
   "id": "337a2097",
   "metadata": {},
   "outputs": [
    {
     "name": "stdout",
     "output_type": "stream",
     "text": [
      "MSE: 37828702717182.11\n"
     ]
    },
    {
     "data": {
      "text/plain": [
       "37828702717182.11"
      ]
     },
     "execution_count": 29,
     "metadata": {},
     "output_type": "execute_result"
    }
   ],
   "source": [
    "# check the bias of the model\n",
    "reg_model.train_test_model(data, X_cls_train, X_cls_train)"
   ]
  },
  {
   "cell_type": "code",
   "execution_count": 30,
   "id": "815e01a4",
   "metadata": {},
   "outputs": [
    {
     "name": "stdout",
     "output_type": "stream",
     "text": [
      "MSE: 74405722751254.38\n"
     ]
    }
   ],
   "source": [
    "# check the actual MSE of the model using new test data\n",
    "model_mse = reg_model.train_test_model(data, X_cls_train, X_cls_test)"
   ]
  },
  {
   "cell_type": "code",
   "execution_count": 31,
   "id": "2fc7c5e3",
   "metadata": {},
   "outputs": [
    {
     "data": {
      "text/plain": [
       "74405722751254.38"
      ]
     },
     "execution_count": 31,
     "metadata": {},
     "output_type": "execute_result"
    }
   ],
   "source": [
    "model_mse"
   ]
  },
  {
   "cell_type": "markdown",
   "id": "f789682a",
   "metadata": {},
   "source": [
    "### Conclusion: Observing the results we can see that our Regression Tree model has a high variance and low bias which means it overfits the training data"
   ]
  },
  {
   "cell_type": "markdown",
   "id": "ae1b3df3",
   "metadata": {},
   "source": [
    "# Comparison With Sklearn Built-In Models <a class=\"anchor\" id=\"section1\"></a>"
   ]
  },
  {
   "cell_type": "markdown",
   "id": "7de0de3d",
   "metadata": {},
   "source": [
    "### Libraries "
   ]
  },
  {
   "cell_type": "code",
   "execution_count": 32,
   "id": "b3ce2a3b",
   "metadata": {},
   "outputs": [],
   "source": [
    "# decision tree\n",
    "from sklearn import tree\n",
    "from sklearn.tree import DecisionTreeClassifier, DecisionTreeRegressor\n",
    "\n",
    "# random forest\n",
    "from sklearn.ensemble import RandomForestClassifier, RandomForestRegressor\n",
    "\n",
    "# model building\n",
    "from sklearn.model_selection import train_test_split, GridSearchCV\n",
    "\n",
    "# model evaluation\n",
    "from sklearn.metrics import accuracy_score, mean_squared_error\n",
    "\n",
    "# set seed for reproducible results\n",
    "RSEED = 10\n",
    "\n",
    "from sklearn import preprocessing # normalizing for regression tree"
   ]
  },
  {
   "cell_type": "markdown",
   "id": "facb7f5b",
   "metadata": {},
   "source": [
    "### Classification Data"
   ]
  },
  {
   "cell_type": "code",
   "execution_count": 42,
   "id": "ffc3856c",
   "metadata": {},
   "outputs": [],
   "source": [
    "X_cls = data[['availability', 'bedrooms', 'total_sqft', 'bath', 'balcony', 'ranked', 'price in rupees']]\n",
    "y_cls = data['area_type']"
   ]
  },
  {
   "cell_type": "code",
   "execution_count": 43,
   "id": "a221c879",
   "metadata": {},
   "outputs": [],
   "source": [
    "X_cls_train = X_cls.loc[:8040, :]\n",
    "X_cls_test = X_cls.loc[10051:12563, :]\n",
    "y_cls_train = y_cls.loc[:8040]\n",
    "y_cls_test = y_cls.loc[10051:12563]"
   ]
  },
  {
   "cell_type": "markdown",
   "id": "89ea5f13",
   "metadata": {},
   "source": [
    "### Define the Model"
   ]
  },
  {
   "cell_type": "code",
   "execution_count": 44,
   "id": "a442119b",
   "metadata": {},
   "outputs": [],
   "source": [
    "# define model\n",
    "dt = DecisionTreeClassifier(random_state=RSEED, max_depth = class_best_depth, min_samples_split = 2)"
   ]
  },
  {
   "cell_type": "markdown",
   "id": "ab5634e1",
   "metadata": {},
   "source": [
    "### Fit the Model"
   ]
  },
  {
   "cell_type": "code",
   "execution_count": 73,
   "id": "c11ce03c",
   "metadata": {},
   "outputs": [],
   "source": [
    "# fit estimator\n",
    "dt = dt.fit(X_cls_train,y_cls_train)"
   ]
  },
  {
   "cell_type": "markdown",
   "id": "06a41251",
   "metadata": {},
   "source": [
    "### Predict "
   ]
  },
  {
   "cell_type": "code",
   "execution_count": 74,
   "id": "101dfad2",
   "metadata": {},
   "outputs": [],
   "source": [
    "# predict\n",
    "y_cls_pred = dt.predict(X_cls_test)"
   ]
  },
  {
   "cell_type": "markdown",
   "id": "6fe66151",
   "metadata": {},
   "source": [
    "### Evaluate the Model"
   ]
  },
  {
   "cell_type": "code",
   "execution_count": 76,
   "id": "82e6c5b6",
   "metadata": {},
   "outputs": [
    {
     "data": {
      "text/html": [
       "<div>\n",
       "<style scoped>\n",
       "    .dataframe tbody tr th:only-of-type {\n",
       "        vertical-align: middle;\n",
       "    }\n",
       "\n",
       "    .dataframe tbody tr th {\n",
       "        vertical-align: top;\n",
       "    }\n",
       "\n",
       "    .dataframe thead th {\n",
       "        text-align: right;\n",
       "    }\n",
       "</style>\n",
       "<table border=\"1\" class=\"dataframe\">\n",
       "  <thead>\n",
       "    <tr style=\"text-align: right;\">\n",
       "      <th></th>\n",
       "      <th>SkLearn Accuracy</th>\n",
       "      <th>Our Accuracy</th>\n",
       "    </tr>\n",
       "  </thead>\n",
       "  <tbody>\n",
       "    <tr>\n",
       "      <th>Decision Tree Classifier</th>\n",
       "      <td>0.909236</td>\n",
       "      <td>0.905217</td>\n",
       "    </tr>\n",
       "  </tbody>\n",
       "</table>\n",
       "</div>"
      ],
      "text/plain": [
       "                          SkLearn Accuracy  Our Accuracy\n",
       "Decision Tree Classifier          0.909236      0.905217"
      ]
     },
     "execution_count": 76,
     "metadata": {},
     "output_type": "execute_result"
    }
   ],
   "source": [
    "# calculate accuracy\n",
    "acc = round(accuracy_score(y_cls_test, y_cls_pred), 6)\n",
    "\n",
    "df = pd.DataFrame([acc]).T\n",
    "df = df.rename(index={0: 'Decision Tree Classifier'}, columns={0: 'SkLearn Accuracy'})\n",
    "df[\"Our Accuracy\"] = dt_accuracy\n",
    "df"
   ]
  },
  {
   "cell_type": "markdown",
   "id": "6d63b77b",
   "metadata": {},
   "source": [
    "### Conclusion: We got a pretty close accuracy to sklearn model with a difference of only 0.004019, a possible explanation for this difference could be the way in which sklearn implements its classifier and the number of hyper-parameters it uses, even though we gave sklearn model only the max_depth and min_samples_split hyper-parameters doesn't mean that its going to build the model based on these parameters alone instead it sets the other hyper-parameters to their default state and uses them nonetheless, so in conclusion the main reason for this difference in accuracies could be based off of the number of hyper-parameters used to build each model"
   ]
  },
  {
   "cell_type": "markdown",
   "id": "1ceadb26",
   "metadata": {},
   "source": [
    "### Regression Data"
   ]
  },
  {
   "cell_type": "code",
   "execution_count": 33,
   "id": "a63f8282",
   "metadata": {},
   "outputs": [],
   "source": [
    "X_reg = data[['availability', 'bedrooms', 'total_sqft', 'bath', 'balcony', 'ranked']]\n",
    "y_reg = data['price in rupees']"
   ]
  },
  {
   "cell_type": "code",
   "execution_count": 34,
   "id": "58503728",
   "metadata": {},
   "outputs": [],
   "source": [
    "X_reg_train = X_reg.loc[:8040, :]\n",
    "X_reg_test = X_reg.loc[10051:12563, :]\n",
    "y_reg_train = y_reg.loc[:8040]\n",
    "y_reg_test = y_reg.loc[10051:12563]"
   ]
  },
  {
   "cell_type": "markdown",
   "id": "61cb0d2a",
   "metadata": {},
   "source": [
    "### Define the Model"
   ]
  },
  {
   "cell_type": "code",
   "execution_count": 35,
   "id": "cabc4c8f",
   "metadata": {},
   "outputs": [],
   "source": [
    "# define model\n",
    "rt = DecisionTreeRegressor(max_depth = reg_best_depth, min_samples_split = 2)"
   ]
  },
  {
   "cell_type": "markdown",
   "id": "a6a4495b",
   "metadata": {},
   "source": [
    "### Fit the Model"
   ]
  },
  {
   "cell_type": "code",
   "execution_count": 69,
   "id": "b655985b",
   "metadata": {},
   "outputs": [],
   "source": [
    "# fit estimator\n",
    "rt = rt.fit(X_reg_train,y_reg_train)"
   ]
  },
  {
   "cell_type": "markdown",
   "id": "75ada123",
   "metadata": {},
   "source": [
    "### Predict"
   ]
  },
  {
   "cell_type": "code",
   "execution_count": 70,
   "id": "e164fd41",
   "metadata": {},
   "outputs": [],
   "source": [
    "# predict\n",
    "y_pred = rt.predict(X_reg_test)"
   ]
  },
  {
   "cell_type": "markdown",
   "id": "627526f6",
   "metadata": {},
   "source": [
    "### Evaluate the Model\n"
   ]
  },
  {
   "cell_type": "code",
   "execution_count": 71,
   "id": "fd0a7bd5",
   "metadata": {},
   "outputs": [
    {
     "data": {
      "text/html": [
       "<div>\n",
       "<style scoped>\n",
       "    .dataframe tbody tr th:only-of-type {\n",
       "        vertical-align: middle;\n",
       "    }\n",
       "\n",
       "    .dataframe tbody tr th {\n",
       "        vertical-align: top;\n",
       "    }\n",
       "\n",
       "    .dataframe thead th {\n",
       "        text-align: right;\n",
       "    }\n",
       "</style>\n",
       "<table border=\"1\" class=\"dataframe\">\n",
       "  <thead>\n",
       "    <tr style=\"text-align: right;\">\n",
       "      <th></th>\n",
       "      <th>MSE</th>\n",
       "      <th>Our MSE</th>\n",
       "    </tr>\n",
       "  </thead>\n",
       "  <tbody>\n",
       "    <tr>\n",
       "      <th>Decision Tree Regressor</th>\n",
       "      <td>7.661343e+13</td>\n",
       "      <td>7.440572e+13</td>\n",
       "    </tr>\n",
       "  </tbody>\n",
       "</table>\n",
       "</div>"
      ],
      "text/plain": [
       "                                  MSE       Our MSE\n",
       "Decision Tree Regressor  7.661343e+13  7.440572e+13"
      ]
     },
     "execution_count": 71,
     "metadata": {},
     "output_type": "execute_result"
    }
   ],
   "source": [
    "#min_max_scaler = preprocessing.MinMaxScaler()\n",
    "#y_reg_test_norm = min_max_scaler.fit_transform(y_reg_test.values.reshape(-1,1))\n",
    "#y_pred_norm = min_max_scaler.fit_transform(y_pred.reshape(-1,1))\n",
    "# calculate MSE\n",
    "MSE = round(mean_squared_error(y_reg_test, y_pred), 6)\n",
    "\n",
    "df = pd.DataFrame([MSE]).T\n",
    "df = df.rename(index={0: 'Decision Tree Regressor'}, columns={0: 'MSE'})\n",
    "df[\"Our MSE\"] = model_mse\n",
    "df"
   ]
  },
  {
   "cell_type": "markdown",
   "id": "c898ac86",
   "metadata": {},
   "source": [
    "### Conclusion: We got a better MSE than sklearn model , a possible explanation for this difference could be the way in which sklearn implements its regressor and the number of hyper-parameters it uses, even though we gave sklearn model only the max_depth and min_samples_split hyper-parameters doesn't mean that its going to build the model based on these parameters alone instead it sets the other hyper-parameters to their default state and uses them nonetheless, so in conclusion the main reason for this difference in MSE values could be based off of the number of hyper-parameters used to build each model"
   ]
  },
  {
   "cell_type": "markdown",
   "id": "0421031a",
   "metadata": {},
   "source": [
    "# AdaBoost <a class=\"anchor\" id=\"section3\"></a>\n"
   ]
  },
  {
   "cell_type": "markdown",
   "id": "cba44e5b",
   "metadata": {},
   "source": [
    "### Libraries"
   ]
  },
  {
   "cell_type": "code",
   "execution_count": 66,
   "id": "b9514dfb",
   "metadata": {},
   "outputs": [],
   "source": [
    "# adaboost\n",
    "from sklearn.ensemble import AdaBoostClassifier, AdaBoostRegressor\n",
    "# model building\n",
    "from sklearn.model_selection import train_test_split, GridSearchCV\n",
    "\n",
    "# model evaluation\n",
    "from sklearn.metrics import accuracy_score, mean_squared_error\n",
    "\n",
    "# set seed for reproducible results\n",
    "RSEED = 10"
   ]
  },
  {
   "cell_type": "markdown",
   "id": "257a0ecd",
   "metadata": {},
   "source": [
    "### Classification Data"
   ]
  },
  {
   "cell_type": "code",
   "execution_count": 67,
   "id": "774ac6ed",
   "metadata": {},
   "outputs": [],
   "source": [
    "X_cls_adaboost = data[['availability', 'bedrooms', 'total_sqft', 'bath', 'balcony', 'ranked', 'price in rupees']]\n",
    "y_cls_adaboost = data['area_type']"
   ]
  },
  {
   "cell_type": "code",
   "execution_count": 68,
   "id": "f94cf692",
   "metadata": {},
   "outputs": [],
   "source": [
    "X_cls_train_ada = X_cls_adaboost.loc[:8040, :]\n",
    "X_cls_test_ada = X_cls_adaboost.loc[10051:12563, :]\n",
    "y_cls_train_ada = y_cls_adaboost.loc[:8040]\n",
    "y_cls_test_ada = y_cls_adaboost.loc[10051:12563]"
   ]
  },
  {
   "cell_type": "markdown",
   "id": "f119d1ea",
   "metadata": {},
   "source": [
    "### Define The Model"
   ]
  },
  {
   "cell_type": "code",
   "execution_count": 69,
   "id": "6422e627",
   "metadata": {},
   "outputs": [],
   "source": [
    "# define model\n",
    "ab = AdaBoostClassifier(n_estimators = best_k)"
   ]
  },
  {
   "cell_type": "markdown",
   "id": "3bcda46e",
   "metadata": {},
   "source": [
    "### Fit The Model"
   ]
  },
  {
   "cell_type": "code",
   "execution_count": 70,
   "id": "5407c699",
   "metadata": {},
   "outputs": [],
   "source": [
    "# fit estimator\n",
    "ab = ab.fit(X_cls_train_ada, y_cls_train_ada)"
   ]
  },
  {
   "cell_type": "markdown",
   "id": "77d9ab21",
   "metadata": {},
   "source": [
    "### Predict"
   ]
  },
  {
   "cell_type": "code",
   "execution_count": 77,
   "id": "5f1f92a7",
   "metadata": {},
   "outputs": [],
   "source": [
    "# predict\n",
    "y_pred_ada = ab.predict(X_cls_test)"
   ]
  },
  {
   "cell_type": "markdown",
   "id": "8f585a1b",
   "metadata": {},
   "source": [
    "### Evaluate The Model"
   ]
  },
  {
   "cell_type": "code",
   "execution_count": 78,
   "id": "2cfb1c7b",
   "metadata": {},
   "outputs": [
    {
     "data": {
      "text/html": [
       "<div>\n",
       "<style scoped>\n",
       "    .dataframe tbody tr th:only-of-type {\n",
       "        vertical-align: middle;\n",
       "    }\n",
       "\n",
       "    .dataframe tbody tr th {\n",
       "        vertical-align: top;\n",
       "    }\n",
       "\n",
       "    .dataframe thead th {\n",
       "        text-align: right;\n",
       "    }\n",
       "</style>\n",
       "<table border=\"1\" class=\"dataframe\">\n",
       "  <thead>\n",
       "    <tr style=\"text-align: right;\">\n",
       "      <th></th>\n",
       "      <th>Accuracy</th>\n",
       "      <th>Our Accuracy</th>\n",
       "    </tr>\n",
       "  </thead>\n",
       "  <tbody>\n",
       "    <tr>\n",
       "      <th>AdaBoost Classifier</th>\n",
       "      <td>0.903662</td>\n",
       "      <td>0.891278</td>\n",
       "    </tr>\n",
       "  </tbody>\n",
       "</table>\n",
       "</div>"
      ],
      "text/plain": [
       "                     Accuracy  Our Accuracy\n",
       "AdaBoost Classifier  0.903662      0.891278"
      ]
     },
     "execution_count": 78,
     "metadata": {},
     "output_type": "execute_result"
    }
   ],
   "source": [
    "# calculate accuracy\n",
    "acc = round(accuracy_score(y_cls_test, y_pred_ada), 6)\n",
    "\n",
    "df = pd.DataFrame([acc]).T\n",
    "df = df.rename(index={0: 'AdaBoost Classifier'}, columns={0: 'Accuracy'})\n",
    "df[\"Our Accuracy\"] = adaboost_acc\n",
    "df"
   ]
  },
  {
   "cell_type": "markdown",
   "id": "1877865b",
   "metadata": {},
   "source": [
    "### Conclusion: We got a pretty close accuracy to sklearn model with a difference of only 0.012384, a possible explanation for this difference could be the way in which sklearn implements its classifier and the number of hyper-parameters it uses, even though we gave sklearn model only the n_estimators hyper-parameter doesn't mean that its going to build the model based on this parameter alone instead it sets the other hyper-parameters to their default state and uses them nonetheless, so in conclusion the main reason for this difference in accuracies could be based off of the number of hyper-parameters used to build each model"
   ]
  },
  {
   "cell_type": "code",
   "execution_count": null,
   "id": "dff877fb",
   "metadata": {},
   "outputs": [],
   "source": []
  }
 ],
 "metadata": {
  "kernelspec": {
   "display_name": "Python 3 (ipykernel)",
   "language": "python",
   "name": "python3"
  },
  "language_info": {
   "codemirror_mode": {
    "name": "ipython",
    "version": 3
   },
   "file_extension": ".py",
   "mimetype": "text/x-python",
   "name": "python",
   "nbconvert_exporter": "python",
   "pygments_lexer": "ipython3",
   "version": "3.10.2"
  }
 },
 "nbformat": 4,
 "nbformat_minor": 5
}
